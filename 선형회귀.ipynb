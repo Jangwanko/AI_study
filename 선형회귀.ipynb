{
  "nbformat": 4,
  "nbformat_minor": 0,
  "metadata": {
    "colab": {
      "name": "선형회귀.ipynb",
      "provenance": [],
      "collapsed_sections": [],
      "authorship_tag": "ABX9TyPs11zaBXaehIwMd3Yxey5B",
      "include_colab_link": true
    },
    "kernelspec": {
      "name": "python3",
      "display_name": "Python 3"
    },
    "language_info": {
      "name": "python"
    }
  },
  "cells": [
    {
      "cell_type": "markdown",
      "metadata": {
        "id": "view-in-github",
        "colab_type": "text"
      },
      "source": [
        "<a href=\"https://colab.research.google.com/github/Jangwanko/AI_study/blob/main/%EC%84%A0%ED%98%95%ED%9A%8C%EA%B7%80.ipynb\" target=\"_parent\"><img src=\"https://colab.research.google.com/assets/colab-badge.svg\" alt=\"Open In Colab\"/></a>"
      ]
    },
    {
      "cell_type": "code",
      "metadata": {
        "id": "G5sVsARLZjNU"
      },
      "source": [
        "import numpy as np\n",
        "x=[2,4,6,8]\n",
        "y=[81,93,91,97]"
      ],
      "execution_count": null,
      "outputs": []
    },
    {
      "cell_type": "code",
      "metadata": {
        "id": "s74nQG8rZsly"
      },
      "source": [
        "#mean 함수는 각 원소들의 평균값을 구함.\n",
        "mx=np.mean(x)\n",
        "my=np.mean(y)"
      ],
      "execution_count": null,
      "outputs": []
    },
    {
      "cell_type": "code",
      "metadata": {
        "id": "drvWKKGiZ8--"
      },
      "source": [
        "#sum은 시그마, **2는 제곱, \n",
        "divisor=sum([(mx-i)**2 for i in x])"
      ],
      "execution_count": null,
      "outputs": []
    },
    {
      "cell_type": "code",
      "metadata": {
        "id": "poMxezZ8aUBD"
      },
      "source": [
        "def top(x, mx, y, my):\n",
        "  d=0\n",
        "  for i in range(len(x)):\n",
        "    d += (x[i] - mx)*(y[i] - my)\n",
        "  return d\n",
        "dividend = top(x, mx, y, my)"
      ],
      "execution_count": null,
      "outputs": []
    },
    {
      "cell_type": "code",
      "metadata": {
        "colab": {
          "base_uri": "https://localhost:8080/"
        },
        "id": "Iah3xLvxa6Av",
        "outputId": "5464ff06-3d1d-4529-85b2-847f177bb9af"
      },
      "source": [
        "print(\"분모: \", divisor)\n",
        "print(\"분자: \", dividend)"
      ],
      "execution_count": null,
      "outputs": [
        {
          "output_type": "stream",
          "name": "stdout",
          "text": [
            "분모:  20.0\n",
            "분자:  46.0\n"
          ]
        }
      ]
    },
    {
      "cell_type": "code",
      "metadata": {
        "id": "aMLv3boYbBC6"
      },
      "source": [
        "a=dividend/divisor\n",
        "b=my-(mx*a)"
      ],
      "execution_count": null,
      "outputs": []
    },
    {
      "cell_type": "code",
      "metadata": {
        "colab": {
          "base_uri": "https://localhost:8080/"
        },
        "id": "FhyQUEW3bL2z",
        "outputId": "62feca5a-af04-48a4-a529-59603d491936"
      },
      "source": [
        "print(\"기울기 a= \",a)\n",
        "print(\"y 절편 b= \",b)"
      ],
      "execution_count": null,
      "outputs": [
        {
          "output_type": "stream",
          "name": "stdout",
          "text": [
            "기울기 a=  2.3\n",
            "y 절편 b=  79.0\n"
          ]
        }
      ]
    },
    {
      "cell_type": "code",
      "metadata": {
        "id": "xqybytwSbWKj"
      },
      "source": [
        "fake_a_b=[3,76]"
      ],
      "execution_count": null,
      "outputs": []
    },
    {
      "cell_type": "code",
      "metadata": {
        "id": "jnZTn-N7dHNR"
      },
      "source": [
        "data=[[2,81],[4,93],[6,91],[8,97]]\n",
        "x=[i[0]for i in data]\n",
        "y=[i[1]for i in data]"
      ],
      "execution_count": null,
      "outputs": []
    },
    {
      "cell_type": "code",
      "metadata": {
        "id": "Pr7zJxntdVCg"
      },
      "source": [
        "def predict(x):\n",
        "  return fake_a_b[0]*x+fake_a_b[1]"
      ],
      "execution_count": null,
      "outputs": []
    },
    {
      "cell_type": "code",
      "metadata": {
        "id": "efG1TkW3didC"
      },
      "source": [
        "def mse(y, y_hat):\n",
        "  return ((y-y_hat)**2).mean()"
      ],
      "execution_count": null,
      "outputs": []
    },
    {
      "cell_type": "code",
      "metadata": {
        "id": "9w-vDysZdvsH"
      },
      "source": [
        "def mse_val(y,predict_result):\n",
        "  return mse(np.array(y),np.array(predict_result))"
      ],
      "execution_count": null,
      "outputs": []
    },
    {
      "cell_type": "code",
      "metadata": {
        "colab": {
          "base_uri": "https://localhost:8080/"
        },
        "id": "bGzz2nIEeYde",
        "outputId": "92c18a0e-8615-4a24-cc47-bd0793a69b6f"
      },
      "source": [
        "predict_result=[]\n",
        "\n",
        "for i in range(len (x)):\n",
        "  predict_result.append(predict(x[i]))\n",
        "  print(\"공부시간=%.f, 실제 점수=%.f, 예측점수=%.f\"%(x[i],y[i],predict(x[i])))"
      ],
      "execution_count": null,
      "outputs": [
        {
          "output_type": "stream",
          "name": "stdout",
          "text": [
            "공부시간=2, 실제 점수=81, 예측점수=82\n",
            "공부시간=4, 실제 점수=93, 예측점수=88\n",
            "공부시간=6, 실제 점수=91, 예측점수=94\n",
            "공부시간=8, 실제 점수=97, 예측점수=100\n"
          ]
        }
      ]
    },
    {
      "cell_type": "code",
      "metadata": {
        "colab": {
          "base_uri": "https://localhost:8080/"
        },
        "id": "YMQyJsCie8NK",
        "outputId": "b81ae9dd-0bce-4d21-aed8-3d22c4457614"
      },
      "source": [
        "print(\"mse 최종값: \"+str(mse_val(predict_result,y)))"
      ],
      "execution_count": null,
      "outputs": [
        {
          "output_type": "stream",
          "name": "stdout",
          "text": [
            "mse 최종값: 11.0\n"
          ]
        }
      ]
    },
    {
      "cell_type": "code",
      "metadata": {
        "id": "JncBtc0_fMuP"
      },
      "source": [
        ""
      ],
      "execution_count": null,
      "outputs": []
    }
  ]
}